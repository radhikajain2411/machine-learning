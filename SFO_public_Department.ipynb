{
  "nbformat": 4,
  "nbformat_minor": 0,
  "metadata": {
    "colab": {
      "name": "SFO public Department.ipynb",
      "provenance": [],
      "authorship_tag": "ABX9TyMrqIxWKsCPt/GGnO35XaKx",
      "include_colab_link": true
    },
    "kernelspec": {
      "name": "python3",
      "display_name": "Python 3"
    },
    "language_info": {
      "name": "python"
    }
  },
  "cells": [
    {
      "cell_type": "markdown",
      "metadata": {
        "id": "view-in-github",
        "colab_type": "text"
      },
      "source": [
        "<a href=\"https://colab.research.google.com/github/radhikajain2411/machine-learning/blob/main/SFO_public_Department.ipynb\" target=\"_parent\"><img src=\"https://colab.research.google.com/assets/colab-badge.svg\" alt=\"Open In Colab\"/></a>"
      ]
    },
    {
      "cell_type": "markdown",
      "metadata": {
        "id": "tXWt1449_rtq"
      },
      "source": [
        "Data Manipulation\n",
        "DESCRIPTION\n",
        "\n",
        "SFO Public Department, referred to as SFO, has captured the salary data of all its employees for the years 2011-2014. Now in 2018, the organization is facing some financial crisis. As a first step, HR wants to rationalize employee cost to save payroll budget. You have to perform data manipulation and answer the questions below:\n",
        "\n",
        "1. How much total salary cost has increased from year 2011 to 2014?\n",
        "2. Who was the top-earning employee across all the years?\n",
        "Objective: Perform data manipulation and visualization techniques.\n"
      ]
    },
    {
      "cell_type": "code",
      "metadata": {
        "id": "1if3qL2J_v4m"
      },
      "source": [
        "import pandas as pd\n"
      ],
      "execution_count": 1,
      "outputs": []
    },
    {
      "cell_type": "code",
      "metadata": {
        "colab": {
          "base_uri": "https://localhost:8080/"
        },
        "id": "GieEbCvF_ziV",
        "outputId": "58170222-3b6c-4a98-b496-97e49492e7d8"
      },
      "source": [
        "df = pd.read_csv(\"Salaries.csv\")"
      ],
      "execution_count": 2,
      "outputs": [
        {
          "output_type": "stream",
          "text": [
            "/usr/local/lib/python3.7/dist-packages/IPython/core/interactiveshell.py:2718: DtypeWarning: Columns (12) have mixed types.Specify dtype option on import or set low_memory=False.\n",
            "  interactivity=interactivity, compiler=compiler, result=result)\n"
          ],
          "name": "stderr"
        }
      ]
    },
    {
      "cell_type": "code",
      "metadata": {
        "colab": {
          "base_uri": "https://localhost:8080/",
          "height": 751
        },
        "id": "f6I_DjGDAKHo",
        "outputId": "dec539f4-b7b4-498f-ec46-ae1df6eb09d1"
      },
      "source": [
        "df"
      ],
      "execution_count": 3,
      "outputs": [
        {
          "output_type": "execute_result",
          "data": {
            "text/html": [
              "<div>\n",
              "<style scoped>\n",
              "    .dataframe tbody tr th:only-of-type {\n",
              "        vertical-align: middle;\n",
              "    }\n",
              "\n",
              "    .dataframe tbody tr th {\n",
              "        vertical-align: top;\n",
              "    }\n",
              "\n",
              "    .dataframe thead th {\n",
              "        text-align: right;\n",
              "    }\n",
              "</style>\n",
              "<table border=\"1\" class=\"dataframe\">\n",
              "  <thead>\n",
              "    <tr style=\"text-align: right;\">\n",
              "      <th></th>\n",
              "      <th>Id</th>\n",
              "      <th>EmployeeName</th>\n",
              "      <th>JobTitle</th>\n",
              "      <th>BasePay</th>\n",
              "      <th>OvertimePay</th>\n",
              "      <th>OtherPay</th>\n",
              "      <th>Benefits</th>\n",
              "      <th>TotalPay</th>\n",
              "      <th>TotalPayBenefits</th>\n",
              "      <th>Year</th>\n",
              "      <th>Notes</th>\n",
              "      <th>Agency</th>\n",
              "      <th>Status</th>\n",
              "    </tr>\n",
              "  </thead>\n",
              "  <tbody>\n",
              "    <tr>\n",
              "      <th>0</th>\n",
              "      <td>1</td>\n",
              "      <td>NATHANIEL FORD</td>\n",
              "      <td>GENERAL MANAGER-METROPOLITAN TRANSIT AUTHORITY</td>\n",
              "      <td>167411.18</td>\n",
              "      <td>0.00</td>\n",
              "      <td>400184.25</td>\n",
              "      <td>NaN</td>\n",
              "      <td>567595.43</td>\n",
              "      <td>567595.43</td>\n",
              "      <td>2011.0</td>\n",
              "      <td>NaN</td>\n",
              "      <td>San Francisco</td>\n",
              "      <td>NaN</td>\n",
              "    </tr>\n",
              "    <tr>\n",
              "      <th>1</th>\n",
              "      <td>2</td>\n",
              "      <td>GARY JIMENEZ</td>\n",
              "      <td>CAPTAIN III (POLICE DEPARTMENT)</td>\n",
              "      <td>155966.02</td>\n",
              "      <td>245131.88</td>\n",
              "      <td>137811.38</td>\n",
              "      <td>NaN</td>\n",
              "      <td>538909.28</td>\n",
              "      <td>538909.28</td>\n",
              "      <td>2011.0</td>\n",
              "      <td>NaN</td>\n",
              "      <td>San Francisco</td>\n",
              "      <td>NaN</td>\n",
              "    </tr>\n",
              "    <tr>\n",
              "      <th>2</th>\n",
              "      <td>3</td>\n",
              "      <td>ALBERT PARDINI</td>\n",
              "      <td>CAPTAIN III (POLICE DEPARTMENT)</td>\n",
              "      <td>212739.13</td>\n",
              "      <td>106088.18</td>\n",
              "      <td>16452.60</td>\n",
              "      <td>NaN</td>\n",
              "      <td>335279.91</td>\n",
              "      <td>335279.91</td>\n",
              "      <td>2011.0</td>\n",
              "      <td>NaN</td>\n",
              "      <td>San Francisco</td>\n",
              "      <td>NaN</td>\n",
              "    </tr>\n",
              "    <tr>\n",
              "      <th>3</th>\n",
              "      <td>4</td>\n",
              "      <td>CHRISTOPHER CHONG</td>\n",
              "      <td>WIRE ROPE CABLE MAINTENANCE MECHANIC</td>\n",
              "      <td>77916.00</td>\n",
              "      <td>56120.71</td>\n",
              "      <td>198306.90</td>\n",
              "      <td>NaN</td>\n",
              "      <td>332343.61</td>\n",
              "      <td>332343.61</td>\n",
              "      <td>2011.0</td>\n",
              "      <td>NaN</td>\n",
              "      <td>San Francisco</td>\n",
              "      <td>NaN</td>\n",
              "    </tr>\n",
              "    <tr>\n",
              "      <th>4</th>\n",
              "      <td>5</td>\n",
              "      <td>PATRICK GARDNER</td>\n",
              "      <td>DEPUTY CHIEF OF DEPARTMENT,(FIRE DEPARTMENT)</td>\n",
              "      <td>134401.60</td>\n",
              "      <td>9737.00</td>\n",
              "      <td>182234.59</td>\n",
              "      <td>NaN</td>\n",
              "      <td>326373.19</td>\n",
              "      <td>326373.19</td>\n",
              "      <td>2011.0</td>\n",
              "      <td>NaN</td>\n",
              "      <td>San Francisco</td>\n",
              "      <td>NaN</td>\n",
              "    </tr>\n",
              "    <tr>\n",
              "      <th>...</th>\n",
              "      <td>...</td>\n",
              "      <td>...</td>\n",
              "      <td>...</td>\n",
              "      <td>...</td>\n",
              "      <td>...</td>\n",
              "      <td>...</td>\n",
              "      <td>...</td>\n",
              "      <td>...</td>\n",
              "      <td>...</td>\n",
              "      <td>...</td>\n",
              "      <td>...</td>\n",
              "      <td>...</td>\n",
              "      <td>...</td>\n",
              "    </tr>\n",
              "    <tr>\n",
              "      <th>117713</th>\n",
              "      <td>117716</td>\n",
              "      <td>Joel R Salmonson</td>\n",
              "      <td>Police Officer 2</td>\n",
              "      <td>116584.00</td>\n",
              "      <td>3172.08</td>\n",
              "      <td>958.26</td>\n",
              "      <td>38343.94</td>\n",
              "      <td>120714.34</td>\n",
              "      <td>159058.28</td>\n",
              "      <td>2014.0</td>\n",
              "      <td>NaN</td>\n",
              "      <td>San Francisco</td>\n",
              "      <td>FT</td>\n",
              "    </tr>\n",
              "    <tr>\n",
              "      <th>117714</th>\n",
              "      <td>117717</td>\n",
              "      <td>Rebecca S Paras</td>\n",
              "      <td>Registered Nurse</td>\n",
              "      <td>112734.00</td>\n",
              "      <td>0.00</td>\n",
              "      <td>6408.23</td>\n",
              "      <td>39897.69</td>\n",
              "      <td>119142.23</td>\n",
              "      <td>159039.92</td>\n",
              "      <td>2014.0</td>\n",
              "      <td>NaN</td>\n",
              "      <td>San Francisco</td>\n",
              "      <td>PT</td>\n",
              "    </tr>\n",
              "    <tr>\n",
              "      <th>117715</th>\n",
              "      <td>117718</td>\n",
              "      <td>Norman T Wong</td>\n",
              "      <td>Engineer</td>\n",
              "      <td>118621.00</td>\n",
              "      <td>0.00</td>\n",
              "      <td>0.00</td>\n",
              "      <td>40417.41</td>\n",
              "      <td>118621.00</td>\n",
              "      <td>159038.41</td>\n",
              "      <td>2014.0</td>\n",
              "      <td>NaN</td>\n",
              "      <td>San Francisco</td>\n",
              "      <td>FT</td>\n",
              "    </tr>\n",
              "    <tr>\n",
              "      <th>117716</th>\n",
              "      <td>117719</td>\n",
              "      <td>Arlene M Licudine-Barker</td>\n",
              "      <td>IS Business Analyst-Principal</td>\n",
              "      <td>120134.12</td>\n",
              "      <td>0.00</td>\n",
              "      <td>0.00</td>\n",
              "      <td>38897.25</td>\n",
              "      <td>120134.12</td>\n",
              "      <td>159031.37</td>\n",
              "      <td>2014.0</td>\n",
              "      <td>NaN</td>\n",
              "      <td>San Francisco</td>\n",
              "      <td>FT</td>\n",
              "    </tr>\n",
              "    <tr>\n",
              "      <th>117717</th>\n",
              "      <td>11772</td>\n",
              "      <td>NaN</td>\n",
              "      <td>NaN</td>\n",
              "      <td>NaN</td>\n",
              "      <td>NaN</td>\n",
              "      <td>NaN</td>\n",
              "      <td>NaN</td>\n",
              "      <td>NaN</td>\n",
              "      <td>NaN</td>\n",
              "      <td>NaN</td>\n",
              "      <td>NaN</td>\n",
              "      <td>NaN</td>\n",
              "      <td>NaN</td>\n",
              "    </tr>\n",
              "  </tbody>\n",
              "</table>\n",
              "<p>117718 rows × 13 columns</p>\n",
              "</div>"
            ],
            "text/plain": [
              "            Id              EmployeeName  ...         Agency  Status\n",
              "0            1            NATHANIEL FORD  ...  San Francisco     NaN\n",
              "1            2              GARY JIMENEZ  ...  San Francisco     NaN\n",
              "2            3            ALBERT PARDINI  ...  San Francisco     NaN\n",
              "3            4         CHRISTOPHER CHONG  ...  San Francisco     NaN\n",
              "4            5           PATRICK GARDNER  ...  San Francisco     NaN\n",
              "...        ...                       ...  ...            ...     ...\n",
              "117713  117716          Joel R Salmonson  ...  San Francisco      FT\n",
              "117714  117717           Rebecca S Paras  ...  San Francisco      PT\n",
              "117715  117718             Norman T Wong  ...  San Francisco      FT\n",
              "117716  117719  Arlene M Licudine-Barker  ...  San Francisco      FT\n",
              "117717   11772                       NaN  ...            NaN     NaN\n",
              "\n",
              "[117718 rows x 13 columns]"
            ]
          },
          "metadata": {
            "tags": []
          },
          "execution_count": 3
        }
      ]
    },
    {
      "cell_type": "code",
      "metadata": {
        "colab": {
          "base_uri": "https://localhost:8080/",
          "height": 285
        },
        "id": "8ctWvTnJAMJA",
        "outputId": "2f35ef65-9a60-47a3-d674-82d76aee4243"
      },
      "source": [
        "df.head()"
      ],
      "execution_count": 4,
      "outputs": [
        {
          "output_type": "execute_result",
          "data": {
            "text/html": [
              "<div>\n",
              "<style scoped>\n",
              "    .dataframe tbody tr th:only-of-type {\n",
              "        vertical-align: middle;\n",
              "    }\n",
              "\n",
              "    .dataframe tbody tr th {\n",
              "        vertical-align: top;\n",
              "    }\n",
              "\n",
              "    .dataframe thead th {\n",
              "        text-align: right;\n",
              "    }\n",
              "</style>\n",
              "<table border=\"1\" class=\"dataframe\">\n",
              "  <thead>\n",
              "    <tr style=\"text-align: right;\">\n",
              "      <th></th>\n",
              "      <th>Id</th>\n",
              "      <th>EmployeeName</th>\n",
              "      <th>JobTitle</th>\n",
              "      <th>BasePay</th>\n",
              "      <th>OvertimePay</th>\n",
              "      <th>OtherPay</th>\n",
              "      <th>Benefits</th>\n",
              "      <th>TotalPay</th>\n",
              "      <th>TotalPayBenefits</th>\n",
              "      <th>Year</th>\n",
              "      <th>Notes</th>\n",
              "      <th>Agency</th>\n",
              "      <th>Status</th>\n",
              "    </tr>\n",
              "  </thead>\n",
              "  <tbody>\n",
              "    <tr>\n",
              "      <th>0</th>\n",
              "      <td>1</td>\n",
              "      <td>NATHANIEL FORD</td>\n",
              "      <td>GENERAL MANAGER-METROPOLITAN TRANSIT AUTHORITY</td>\n",
              "      <td>167411.18</td>\n",
              "      <td>0.00</td>\n",
              "      <td>400184.25</td>\n",
              "      <td>NaN</td>\n",
              "      <td>567595.43</td>\n",
              "      <td>567595.43</td>\n",
              "      <td>2011.0</td>\n",
              "      <td>NaN</td>\n",
              "      <td>San Francisco</td>\n",
              "      <td>NaN</td>\n",
              "    </tr>\n",
              "    <tr>\n",
              "      <th>1</th>\n",
              "      <td>2</td>\n",
              "      <td>GARY JIMENEZ</td>\n",
              "      <td>CAPTAIN III (POLICE DEPARTMENT)</td>\n",
              "      <td>155966.02</td>\n",
              "      <td>245131.88</td>\n",
              "      <td>137811.38</td>\n",
              "      <td>NaN</td>\n",
              "      <td>538909.28</td>\n",
              "      <td>538909.28</td>\n",
              "      <td>2011.0</td>\n",
              "      <td>NaN</td>\n",
              "      <td>San Francisco</td>\n",
              "      <td>NaN</td>\n",
              "    </tr>\n",
              "    <tr>\n",
              "      <th>2</th>\n",
              "      <td>3</td>\n",
              "      <td>ALBERT PARDINI</td>\n",
              "      <td>CAPTAIN III (POLICE DEPARTMENT)</td>\n",
              "      <td>212739.13</td>\n",
              "      <td>106088.18</td>\n",
              "      <td>16452.60</td>\n",
              "      <td>NaN</td>\n",
              "      <td>335279.91</td>\n",
              "      <td>335279.91</td>\n",
              "      <td>2011.0</td>\n",
              "      <td>NaN</td>\n",
              "      <td>San Francisco</td>\n",
              "      <td>NaN</td>\n",
              "    </tr>\n",
              "    <tr>\n",
              "      <th>3</th>\n",
              "      <td>4</td>\n",
              "      <td>CHRISTOPHER CHONG</td>\n",
              "      <td>WIRE ROPE CABLE MAINTENANCE MECHANIC</td>\n",
              "      <td>77916.00</td>\n",
              "      <td>56120.71</td>\n",
              "      <td>198306.90</td>\n",
              "      <td>NaN</td>\n",
              "      <td>332343.61</td>\n",
              "      <td>332343.61</td>\n",
              "      <td>2011.0</td>\n",
              "      <td>NaN</td>\n",
              "      <td>San Francisco</td>\n",
              "      <td>NaN</td>\n",
              "    </tr>\n",
              "    <tr>\n",
              "      <th>4</th>\n",
              "      <td>5</td>\n",
              "      <td>PATRICK GARDNER</td>\n",
              "      <td>DEPUTY CHIEF OF DEPARTMENT,(FIRE DEPARTMENT)</td>\n",
              "      <td>134401.60</td>\n",
              "      <td>9737.00</td>\n",
              "      <td>182234.59</td>\n",
              "      <td>NaN</td>\n",
              "      <td>326373.19</td>\n",
              "      <td>326373.19</td>\n",
              "      <td>2011.0</td>\n",
              "      <td>NaN</td>\n",
              "      <td>San Francisco</td>\n",
              "      <td>NaN</td>\n",
              "    </tr>\n",
              "  </tbody>\n",
              "</table>\n",
              "</div>"
            ],
            "text/plain": [
              "   Id       EmployeeName  ...         Agency  Status\n",
              "0   1     NATHANIEL FORD  ...  San Francisco     NaN\n",
              "1   2       GARY JIMENEZ  ...  San Francisco     NaN\n",
              "2   3     ALBERT PARDINI  ...  San Francisco     NaN\n",
              "3   4  CHRISTOPHER CHONG  ...  San Francisco     NaN\n",
              "4   5    PATRICK GARDNER  ...  San Francisco     NaN\n",
              "\n",
              "[5 rows x 13 columns]"
            ]
          },
          "metadata": {
            "tags": []
          },
          "execution_count": 4
        }
      ]
    },
    {
      "cell_type": "code",
      "metadata": {
        "colab": {
          "base_uri": "https://localhost:8080/"
        },
        "id": "CNQVNViwBMNK",
        "outputId": "6ffd930b-c316-40b0-bbf2-2ea5d4eaab66"
      },
      "source": [
        "df.isnull().any()"
      ],
      "execution_count": 5,
      "outputs": [
        {
          "output_type": "execute_result",
          "data": {
            "text/plain": [
              "Id                  False\n",
              "EmployeeName         True\n",
              "JobTitle             True\n",
              "BasePay              True\n",
              "OvertimePay          True\n",
              "OtherPay             True\n",
              "Benefits             True\n",
              "TotalPay             True\n",
              "TotalPayBenefits     True\n",
              "Year                 True\n",
              "Notes                True\n",
              "Agency               True\n",
              "Status               True\n",
              "dtype: bool"
            ]
          },
          "metadata": {
            "tags": []
          },
          "execution_count": 5
        }
      ]
    },
    {
      "cell_type": "code",
      "metadata": {
        "colab": {
          "base_uri": "https://localhost:8080/"
        },
        "id": "O7BaoiF7Bk1A",
        "outputId": "e52ae4a9-c623-439e-d6c5-f831e236aaae"
      },
      "source": [
        "df.info()"
      ],
      "execution_count": 8,
      "outputs": [
        {
          "output_type": "stream",
          "text": [
            "<class 'pandas.core.frame.DataFrame'>\n",
            "RangeIndex: 117718 entries, 0 to 117717\n",
            "Data columns (total 13 columns):\n",
            " #   Column            Non-Null Count   Dtype  \n",
            "---  ------            --------------   -----  \n",
            " 0   Id                117718 non-null  int64  \n",
            " 1   EmployeeName      117717 non-null  object \n",
            " 2   JobTitle          117717 non-null  object \n",
            " 3   BasePay           117112 non-null  float64\n",
            " 4   OvertimePay       117717 non-null  float64\n",
            " 5   OtherPay          117717 non-null  float64\n",
            " 6   Benefits          81559 non-null   float64\n",
            " 7   TotalPay          117717 non-null  float64\n",
            " 8   TotalPayBenefits  117717 non-null  float64\n",
            " 9   Year              117717 non-null  float64\n",
            " 10  Notes             0 non-null       float64\n",
            " 11  Agency            117717 non-null  object \n",
            " 12  Status            7188 non-null    object \n",
            "dtypes: float64(8), int64(1), object(4)\n",
            "memory usage: 11.7+ MB\n"
          ],
          "name": "stdout"
        }
      ]
    },
    {
      "cell_type": "code",
      "metadata": {
        "colab": {
          "base_uri": "https://localhost:8080/"
        },
        "id": "8XC9RdT8Bt7Y",
        "outputId": "b402e00f-e89a-43bf-e5d3-afe8acf80704"
      },
      "source": [
        "df.shape"
      ],
      "execution_count": 9,
      "outputs": [
        {
          "output_type": "execute_result",
          "data": {
            "text/plain": [
              "(117718, 13)"
            ]
          },
          "metadata": {
            "tags": []
          },
          "execution_count": 9
        }
      ]
    },
    {
      "cell_type": "code",
      "metadata": {
        "colab": {
          "base_uri": "https://localhost:8080/",
          "height": 564
        },
        "id": "M0-v-wySD61z",
        "outputId": "4ca3979e-2133-428a-c6c2-1a10b6490727"
      },
      "source": [
        "df.sort_values(by=['TotalPay'],ascending=False)"
      ],
      "execution_count": 11,
      "outputs": [
        {
          "output_type": "execute_result",
          "data": {
            "text/html": [
              "<div>\n",
              "<style scoped>\n",
              "    .dataframe tbody tr th:only-of-type {\n",
              "        vertical-align: middle;\n",
              "    }\n",
              "\n",
              "    .dataframe tbody tr th {\n",
              "        vertical-align: top;\n",
              "    }\n",
              "\n",
              "    .dataframe thead th {\n",
              "        text-align: right;\n",
              "    }\n",
              "</style>\n",
              "<table border=\"1\" class=\"dataframe\">\n",
              "  <thead>\n",
              "    <tr style=\"text-align: right;\">\n",
              "      <th></th>\n",
              "      <th>Id</th>\n",
              "      <th>EmployeeName</th>\n",
              "      <th>JobTitle</th>\n",
              "      <th>BasePay</th>\n",
              "      <th>OvertimePay</th>\n",
              "      <th>OtherPay</th>\n",
              "      <th>Benefits</th>\n",
              "      <th>TotalPay</th>\n",
              "      <th>TotalPayBenefits</th>\n",
              "      <th>Year</th>\n",
              "      <th>Notes</th>\n",
              "      <th>Agency</th>\n",
              "      <th>Status</th>\n",
              "    </tr>\n",
              "  </thead>\n",
              "  <tbody>\n",
              "    <tr>\n",
              "      <th>0</th>\n",
              "      <td>1</td>\n",
              "      <td>NATHANIEL FORD</td>\n",
              "      <td>GENERAL MANAGER-METROPOLITAN TRANSIT AUTHORITY</td>\n",
              "      <td>167411.18</td>\n",
              "      <td>0.00</td>\n",
              "      <td>400184.25</td>\n",
              "      <td>NaN</td>\n",
              "      <td>567595.43</td>\n",
              "      <td>567595.43</td>\n",
              "      <td>2011.0</td>\n",
              "      <td>NaN</td>\n",
              "      <td>San Francisco</td>\n",
              "      <td>NaN</td>\n",
              "    </tr>\n",
              "    <tr>\n",
              "      <th>1</th>\n",
              "      <td>2</td>\n",
              "      <td>GARY JIMENEZ</td>\n",
              "      <td>CAPTAIN III (POLICE DEPARTMENT)</td>\n",
              "      <td>155966.02</td>\n",
              "      <td>245131.88</td>\n",
              "      <td>137811.38</td>\n",
              "      <td>NaN</td>\n",
              "      <td>538909.28</td>\n",
              "      <td>538909.28</td>\n",
              "      <td>2011.0</td>\n",
              "      <td>NaN</td>\n",
              "      <td>San Francisco</td>\n",
              "      <td>NaN</td>\n",
              "    </tr>\n",
              "    <tr>\n",
              "      <th>110529</th>\n",
              "      <td>110532</td>\n",
              "      <td>David Shinn</td>\n",
              "      <td>Deputy Chief 3</td>\n",
              "      <td>129150.01</td>\n",
              "      <td>0.00</td>\n",
              "      <td>342802.63</td>\n",
              "      <td>38780.04</td>\n",
              "      <td>471952.64</td>\n",
              "      <td>510732.68</td>\n",
              "      <td>2014.0</td>\n",
              "      <td>NaN</td>\n",
              "      <td>San Francisco</td>\n",
              "      <td>PT</td>\n",
              "    </tr>\n",
              "    <tr>\n",
              "      <th>110530</th>\n",
              "      <td>110533</td>\n",
              "      <td>Amy P Hart</td>\n",
              "      <td>Asst Med Examiner</td>\n",
              "      <td>318835.49</td>\n",
              "      <td>10712.95</td>\n",
              "      <td>60563.54</td>\n",
              "      <td>89540.23</td>\n",
              "      <td>390111.98</td>\n",
              "      <td>479652.21</td>\n",
              "      <td>2014.0</td>\n",
              "      <td>NaN</td>\n",
              "      <td>San Francisco</td>\n",
              "      <td>FT</td>\n",
              "    </tr>\n",
              "    <tr>\n",
              "      <th>36158</th>\n",
              "      <td>36160</td>\n",
              "      <td>Gary Altenberg</td>\n",
              "      <td>Lieutenant, Fire Suppression</td>\n",
              "      <td>128808.87</td>\n",
              "      <td>220909.48</td>\n",
              "      <td>13126.31</td>\n",
              "      <td>44430.12</td>\n",
              "      <td>362844.66</td>\n",
              "      <td>407274.78</td>\n",
              "      <td>2012.0</td>\n",
              "      <td>NaN</td>\n",
              "      <td>San Francisco</td>\n",
              "      <td>NaN</td>\n",
              "    </tr>\n",
              "    <tr>\n",
              "      <th>...</th>\n",
              "      <td>...</td>\n",
              "      <td>...</td>\n",
              "      <td>...</td>\n",
              "      <td>...</td>\n",
              "      <td>...</td>\n",
              "      <td>...</td>\n",
              "      <td>...</td>\n",
              "      <td>...</td>\n",
              "      <td>...</td>\n",
              "      <td>...</td>\n",
              "      <td>...</td>\n",
              "      <td>...</td>\n",
              "      <td>...</td>\n",
              "    </tr>\n",
              "    <tr>\n",
              "      <th>106773</th>\n",
              "      <td>106776</td>\n",
              "      <td>Gerard  Gleason</td>\n",
              "      <td>Commissioner 16.700c, No Pay</td>\n",
              "      <td>NaN</td>\n",
              "      <td>0.00</td>\n",
              "      <td>0.00</td>\n",
              "      <td>7959.18</td>\n",
              "      <td>0.00</td>\n",
              "      <td>7959.18</td>\n",
              "      <td>2013.0</td>\n",
              "      <td>NaN</td>\n",
              "      <td>San Francisco</td>\n",
              "      <td>NaN</td>\n",
              "    </tr>\n",
              "    <tr>\n",
              "      <th>106772</th>\n",
              "      <td>106775</td>\n",
              "      <td>Monica J Moy</td>\n",
              "      <td>Senior Administrative Analyst</td>\n",
              "      <td>NaN</td>\n",
              "      <td>0.00</td>\n",
              "      <td>0.00</td>\n",
              "      <td>7959.18</td>\n",
              "      <td>0.00</td>\n",
              "      <td>7959.18</td>\n",
              "      <td>2013.0</td>\n",
              "      <td>NaN</td>\n",
              "      <td>San Francisco</td>\n",
              "      <td>NaN</td>\n",
              "    </tr>\n",
              "    <tr>\n",
              "      <th>106771</th>\n",
              "      <td>106774</td>\n",
              "      <td>Lawanna D Harrison</td>\n",
              "      <td>Deputy Sheriff</td>\n",
              "      <td>NaN</td>\n",
              "      <td>0.00</td>\n",
              "      <td>0.00</td>\n",
              "      <td>7959.18</td>\n",
              "      <td>0.00</td>\n",
              "      <td>7959.18</td>\n",
              "      <td>2013.0</td>\n",
              "      <td>NaN</td>\n",
              "      <td>San Francisco</td>\n",
              "      <td>NaN</td>\n",
              "    </tr>\n",
              "    <tr>\n",
              "      <th>110528</th>\n",
              "      <td>110531</td>\n",
              "      <td>David P Kucia</td>\n",
              "      <td>Police Officer 3</td>\n",
              "      <td>NaN</td>\n",
              "      <td>0.00</td>\n",
              "      <td>0.00</td>\n",
              "      <td>-33.89</td>\n",
              "      <td>0.00</td>\n",
              "      <td>-33.89</td>\n",
              "      <td>2013.0</td>\n",
              "      <td>NaN</td>\n",
              "      <td>San Francisco</td>\n",
              "      <td>NaN</td>\n",
              "    </tr>\n",
              "    <tr>\n",
              "      <th>117717</th>\n",
              "      <td>11772</td>\n",
              "      <td>NaN</td>\n",
              "      <td>NaN</td>\n",
              "      <td>NaN</td>\n",
              "      <td>NaN</td>\n",
              "      <td>NaN</td>\n",
              "      <td>NaN</td>\n",
              "      <td>NaN</td>\n",
              "      <td>NaN</td>\n",
              "      <td>NaN</td>\n",
              "      <td>NaN</td>\n",
              "      <td>NaN</td>\n",
              "      <td>NaN</td>\n",
              "    </tr>\n",
              "  </tbody>\n",
              "</table>\n",
              "<p>117718 rows × 13 columns</p>\n",
              "</div>"
            ],
            "text/plain": [
              "            Id        EmployeeName  ...         Agency  Status\n",
              "0            1      NATHANIEL FORD  ...  San Francisco     NaN\n",
              "1            2        GARY JIMENEZ  ...  San Francisco     NaN\n",
              "110529  110532         David Shinn  ...  San Francisco      PT\n",
              "110530  110533          Amy P Hart  ...  San Francisco      FT\n",
              "36158    36160      Gary Altenberg  ...  San Francisco     NaN\n",
              "...        ...                 ...  ...            ...     ...\n",
              "106773  106776     Gerard  Gleason  ...  San Francisco     NaN\n",
              "106772  106775        Monica J Moy  ...  San Francisco     NaN\n",
              "106771  106774  Lawanna D Harrison  ...  San Francisco     NaN\n",
              "110528  110531       David P Kucia  ...  San Francisco     NaN\n",
              "117717   11772                 NaN  ...            NaN     NaN\n",
              "\n",
              "[117718 rows x 13 columns]"
            ]
          },
          "metadata": {
            "tags": []
          },
          "execution_count": 11
        }
      ]
    },
    {
      "cell_type": "markdown",
      "metadata": {
        "id": "2RC5Jxm4IE0h"
      },
      "source": [
        "How much total salary cost has increased from year 2011 to 2014?"
      ]
    },
    {
      "cell_type": "code",
      "metadata": {
        "id": "UEuyyHGdEZrW"
      },
      "source": [
        "pay_2011 = df.query(\"Year == 2011\")['TotalPay'].sum()"
      ],
      "execution_count": 12,
      "outputs": []
    },
    {
      "cell_type": "code",
      "metadata": {
        "id": "QWCfIUiUE6Yp"
      },
      "source": [
        "pay_2012 = df.query(\"Year == 2012\")['TotalPay'].sum()"
      ],
      "execution_count": 13,
      "outputs": []
    },
    {
      "cell_type": "code",
      "metadata": {
        "id": "faYVZ-EiHwrt"
      },
      "source": [
        "incresed_cost = pay_2012-pay_2011"
      ],
      "execution_count": 14,
      "outputs": []
    },
    {
      "cell_type": "markdown",
      "metadata": {
        "id": "pm59SOBJIMEY"
      },
      "source": [
        "Total Increased Cost "
      ]
    },
    {
      "cell_type": "code",
      "metadata": {
        "colab": {
          "base_uri": "https://localhost:8080/"
        },
        "id": "p3rPNU4YH7DE",
        "outputId": "f5898b7f-f01a-4177-e2d5-c1119addfeb0"
      },
      "source": [
        "incresed_cost"
      ],
      "execution_count": 16,
      "outputs": [
        {
          "output_type": "execute_result",
          "data": {
            "text/plain": [
              "130623286.50999975"
            ]
          },
          "metadata": {
            "tags": []
          },
          "execution_count": 16
        }
      ]
    },
    {
      "cell_type": "markdown",
      "metadata": {
        "id": "lPCQo5x0IaHi"
      },
      "source": [
        "Who was the top-earning employee across all the years? "
      ]
    },
    {
      "cell_type": "code",
      "metadata": {
        "id": "oxFMGYTTIZRv"
      },
      "source": [
        "df_2011 = df[df['Year'] == 2011]\n",
        "df_2012 = df[df['Year'] == 2012]\n",
        "df_2013 = df[df['Year'] == 2013]\n",
        "df_2014 = df[df['Year'] == 2014]"
      ],
      "execution_count": 49,
      "outputs": []
    },
    {
      "cell_type": "markdown",
      "metadata": {
        "id": "-jjJvQ69XT19"
      },
      "source": [
        "The top earning employee from each year.\n",
        "Since 2011-2014"
      ]
    },
    {
      "cell_type": "code",
      "metadata": {
        "colab": {
          "base_uri": "https://localhost:8080/",
          "height": 78
        },
        "id": "rOf-aLN7H9MD",
        "outputId": "fb3e7186-6e3f-481e-ff01-b4459505fa26"
      },
      "source": [
        "df_2011_top_employee = df_2011[['TotalPay','EmployeeName','JobTitle']].sort_values(by=['TotalPay'], ascending=False).head(1)\n",
        "df_2011_top_employee"
      ],
      "execution_count": 52,
      "outputs": [
        {
          "output_type": "execute_result",
          "data": {
            "text/html": [
              "<div>\n",
              "<style scoped>\n",
              "    .dataframe tbody tr th:only-of-type {\n",
              "        vertical-align: middle;\n",
              "    }\n",
              "\n",
              "    .dataframe tbody tr th {\n",
              "        vertical-align: top;\n",
              "    }\n",
              "\n",
              "    .dataframe thead th {\n",
              "        text-align: right;\n",
              "    }\n",
              "</style>\n",
              "<table border=\"1\" class=\"dataframe\">\n",
              "  <thead>\n",
              "    <tr style=\"text-align: right;\">\n",
              "      <th></th>\n",
              "      <th>TotalPay</th>\n",
              "      <th>EmployeeName</th>\n",
              "      <th>JobTitle</th>\n",
              "    </tr>\n",
              "  </thead>\n",
              "  <tbody>\n",
              "    <tr>\n",
              "      <th>0</th>\n",
              "      <td>567595.43</td>\n",
              "      <td>NATHANIEL FORD</td>\n",
              "      <td>GENERAL MANAGER-METROPOLITAN TRANSIT AUTHORITY</td>\n",
              "    </tr>\n",
              "  </tbody>\n",
              "</table>\n",
              "</div>"
            ],
            "text/plain": [
              "    TotalPay    EmployeeName                                        JobTitle\n",
              "0  567595.43  NATHANIEL FORD  GENERAL MANAGER-METROPOLITAN TRANSIT AUTHORITY"
            ]
          },
          "metadata": {
            "tags": []
          },
          "execution_count": 52
        }
      ]
    },
    {
      "cell_type": "code",
      "metadata": {
        "colab": {
          "base_uri": "https://localhost:8080/",
          "height": 78
        },
        "id": "Ve7Ax2EhItiD",
        "outputId": "169a786f-8174-4f1a-829f-816861f337b3"
      },
      "source": [
        "df_2012_top_employee = df_2012[['TotalPay','EmployeeName','JobTitle']].sort_values(by=['TotalPay'], ascending=False).head(1)\n",
        "df_2012_top_employee"
      ],
      "execution_count": 62,
      "outputs": [
        {
          "output_type": "execute_result",
          "data": {
            "text/html": [
              "<div>\n",
              "<style scoped>\n",
              "    .dataframe tbody tr th:only-of-type {\n",
              "        vertical-align: middle;\n",
              "    }\n",
              "\n",
              "    .dataframe tbody tr th {\n",
              "        vertical-align: top;\n",
              "    }\n",
              "\n",
              "    .dataframe thead th {\n",
              "        text-align: right;\n",
              "    }\n",
              "</style>\n",
              "<table border=\"1\" class=\"dataframe\">\n",
              "  <thead>\n",
              "    <tr style=\"text-align: right;\">\n",
              "      <th></th>\n",
              "      <th>TotalPay</th>\n",
              "      <th>EmployeeName</th>\n",
              "      <th>JobTitle</th>\n",
              "    </tr>\n",
              "  </thead>\n",
              "  <tbody>\n",
              "    <tr>\n",
              "      <th>36158</th>\n",
              "      <td>362844.66</td>\n",
              "      <td>Gary Altenberg</td>\n",
              "      <td>Lieutenant, Fire Suppression</td>\n",
              "    </tr>\n",
              "  </tbody>\n",
              "</table>\n",
              "</div>"
            ],
            "text/plain": [
              "        TotalPay    EmployeeName                      JobTitle\n",
              "36158  362844.66  Gary Altenberg  Lieutenant, Fire Suppression"
            ]
          },
          "metadata": {
            "tags": []
          },
          "execution_count": 62
        }
      ]
    },
    {
      "cell_type": "code",
      "metadata": {
        "colab": {
          "base_uri": "https://localhost:8080/",
          "height": 78
        },
        "id": "RwjmZAtjI49u",
        "outputId": "d5a79c00-13ba-4ed8-9655-dc4d5c409259"
      },
      "source": [
        "df_2013_top_employee = df_2013[['TotalPay','EmployeeName','JobTitle']].sort_values(by=['TotalPay'], ascending=False).head(1)\n",
        "df_2013_top_employee"
      ],
      "execution_count": 63,
      "outputs": [
        {
          "output_type": "execute_result",
          "data": {
            "text/html": [
              "<div>\n",
              "<style scoped>\n",
              "    .dataframe tbody tr th:only-of-type {\n",
              "        vertical-align: middle;\n",
              "    }\n",
              "\n",
              "    .dataframe tbody tr th {\n",
              "        vertical-align: top;\n",
              "    }\n",
              "\n",
              "    .dataframe thead th {\n",
              "        text-align: right;\n",
              "    }\n",
              "</style>\n",
              "<table border=\"1\" class=\"dataframe\">\n",
              "  <thead>\n",
              "    <tr style=\"text-align: right;\">\n",
              "      <th></th>\n",
              "      <th>TotalPay</th>\n",
              "      <th>EmployeeName</th>\n",
              "      <th>JobTitle</th>\n",
              "    </tr>\n",
              "  </thead>\n",
              "  <tbody>\n",
              "    <tr>\n",
              "      <th>72925</th>\n",
              "      <td>347102.32</td>\n",
              "      <td>Samson  Lai</td>\n",
              "      <td>Battalion Chief, Fire Suppress</td>\n",
              "    </tr>\n",
              "  </tbody>\n",
              "</table>\n",
              "</div>"
            ],
            "text/plain": [
              "        TotalPay EmployeeName                        JobTitle\n",
              "72925  347102.32  Samson  Lai  Battalion Chief, Fire Suppress"
            ]
          },
          "metadata": {
            "tags": []
          },
          "execution_count": 63
        }
      ]
    },
    {
      "cell_type": "code",
      "metadata": {
        "id": "Zp8WC4viJk46"
      },
      "source": [
        "df_2014_top_employee = df_2014[['TotalPay','EmployeeName','JobTitle']].sort_values(by=['TotalPay'], ascending=False).head(1)\n",
        "df_2014_top_employee"
      ],
      "execution_count": null,
      "outputs": []
    },
    {
      "cell_type": "markdown",
      "metadata": {
        "id": "wlJcPol0Xyjr"
      },
      "source": [
        "Visualization of top-employee salary in diff. years"
      ]
    },
    {
      "cell_type": "code",
      "metadata": {
        "id": "q10NuFQCY4vp"
      },
      "source": [
        "max_salary_2011 = df_2011.sort_values(by=['TotalPay'], ascending=False).head(1)\n",
        "max_salary_2012 = df_2012.sort_values(by=['TotalPay'], ascending=False).head(1)\n",
        "max_salary_2013 = df_2013.sort_values(by=['TotalPay'], ascending=False).head(1)\n",
        "max_salary_2014 = df_2014.sort_values(by=['TotalPay'], ascending=False).head(1)"
      ],
      "execution_count": 65,
      "outputs": []
    },
    {
      "cell_type": "code",
      "metadata": {
        "id": "eQePF895YAn7"
      },
      "source": [
        ""
      ],
      "execution_count": 71,
      "outputs": []
    },
    {
      "cell_type": "code",
      "metadata": {
        "id": "XtriJV55ZlMN"
      },
      "source": [
        ""
      ],
      "execution_count": null,
      "outputs": []
    }
  ]
}